{
 "cells": [
  {
   "cell_type": "markdown",
   "metadata": {},
   "source": [
    "<h1><center>Bernulijeva raspodela</center></h1>\n",
    "<h2>Uvod</h2>\n",
    "\n",
    "* ***Bernulijeva raspodela*** je diskretna raspodela u kojoj slučajna promenljiva $X$ moze da uzima vrednost 1 sa verovatnoćom $p$ i vrednost 0 sa verovatnoćom $1 - p$ (1 predstavlja uspeh, a 0 neuspeh u ovom eksperimentu). Ovo zapisujemo kao:\n",
    "\n",
    "$$\\fbox{$P(X = 1) = p, \\quad P(X = 0) = 1 - p$}$$\n",
    "\n",
    "* Ako slučajna promenljiva $X$ ima Bernulijevu raspodelu sa parametrom $p$, oznaka je $X \\sim Bern(p)$.<br>\n",
    "* Ona se može uzeti kao model za opisivanje bacanja novčića, gde bi, na primer, 1 i 0 predstavljali glavu i pismo, a $p$ i $1 - p$ bi bile verovatnoće da<br> padnu glava i pismo, respektivno. Za novčiće koje mi koristimo bi bilo $p = 0.5$, dok bi za \"nefer\" novčiće važilo $p \\neq 0.5$.<br> \n",
    "* Bernulijeva raspodela je specijalan slučaj binomne raspodele sa jednim eksperimentom.\n",
    "\n",
    "<h2>Funkcija raspodele</h2>\n",
    "\n",
    "* Bernulijeva raspodela ima sledeću funkciju raspodele:\n",
    "$$\\fbox{$F(x) = P(X \\leq x) = \n",
    "\\begin{cases}\n",
    "0, \\quad x < 0, \\\\\n",
    "1 - p, \\quad 0 \\leq x < 1,\\\\\n",
    "1, \\quad x \\geq 1.\n",
    "\\end{cases}$}$$\n",
    "* To možemo predstaviti sledećim grafikom:"
   ]
  },
  {
   "cell_type": "code",
   "execution_count": 1,
   "metadata": {},
   "outputs": [],
   "source": [
    "import sympy as sp\n",
    "import numpy as np\n",
    "import matplotlib.pyplot as plt\n",
    "import math as m\n",
    "from ipywidgets import widgets\n",
    "from IPython.display import display"
   ]
  },
  {
   "cell_type": "code",
   "execution_count": 2,
   "metadata": {},
   "outputs": [
    {
     "data": {
      "application/vnd.jupyter.widget-view+json": {
       "model_id": "2979e1f74d5e47df9d00458db0e69d69",
       "version_major": 2,
       "version_minor": 0
      },
      "text/plain": [
       "interactive(children=(FloatSlider(value=0.5, description='p', max=1.0), Dropdown(description='color1', index=5…"
      ]
     },
     "metadata": {},
     "output_type": "display_data"
    }
   ],
   "source": [
    "def BernuliFja(x, p):\n",
    "    l = np.zeros(len(x))\n",
    "    for i in range(0, len(x)):\n",
    "        if x[i] < 1 and x[i] >= 0:\n",
    "            l[i] = 1 - p\n",
    "        if x[i] >= 1:\n",
    "            l[i] = 1\n",
    "    return l\n",
    "    \n",
    "    \n",
    "@widgets.interact(\n",
    "    color1=['indianred', 'yellow', 'lightseagreen', 'midnightblue', 'gold', 'forestgreen', \n",
    "            'xkcd:rusty red', 'orange', 'royalblue', 'lavenderblush', 'white', 'grey',\n",
    "           'blue', 'red', 'green', 'black'], \n",
    "    color2=['indianred', 'yellow', 'lightseagreen', 'midnightblue', 'gold', 'forestgreen', \n",
    "            'xkcd:rusty red', 'orange', 'royalblue', 'lavenderblush', 'white', 'grey',\n",
    "           'blue', 'red', 'green', 'black'], \n",
    "    color3=['indianred', 'yellow', 'lightseagreen', 'midnightblue', 'gold', 'forestgreen', \n",
    "            'xkcd:rusty red', 'orange', 'royalblue', 'lavenderblush', 'white', 'grey',\n",
    "           'blue', 'red', 'green', 'black'], p = (0, 1.0))\n",
    "def plot(p = 0.5, color1 = 'forestgreen', color2 = 'white', color3 = 'grey',grid = True):\n",
    "    xOsa = np.linspace(-2, 2, 1000)\n",
    "    yOsa = BernuliFja(xOsa, p)\n",
    "    plt.figure(1, figsize=(9,6), dpi=100)\n",
    "    ax = plt.axes()\n",
    "    ax.set_facecolor(color2)\n",
    "    plt.scatter(xOsa, yOsa, s = 1, label=\"p = {0}\".format(p), color=color1)\n",
    "    plt.title(\"Grafik Bernulijeve raspodele\")\n",
    "    if grid:\n",
    "        plt.grid(b=True,which=\"both\", color=color3, linestyle=\"--\")\n",
    "    plt.xlabel('X osa');\n",
    "    plt.ylabel('Y osa');\n",
    "    plt.legend()\n",
    "    plt.show()"
   ]
  },
  {
   "cell_type": "markdown",
   "metadata": {},
   "source": [
    "<h2>Matematičko očekivanje</h2>\n",
    "\n",
    "* Slučajna promenljiva $X$ sa Bernulijevom raspodelom sa parametrom $p$ ima matematičko očekivanje $EX = p$.\n",
    "\n",
    "<u><h3>**Dokaz**</h3></u> $$P(X = 1) = p, \\quad P(X = 0) = 1 - p$$\n",
    "Po definiciji matematičkog očekivanja je:\n",
    "$$EX = \\sum_{k = 0}^{1} k \\cdot P(X = k) = 1 \\cdot P(X = 1) + 0 \\cdot P(X = 0) $$\n",
    "$$EX = 1 \\cdot p + 0 \\cdot (1 - p) = p \\quad \\Longrightarrow \\quad \\fbox{$X \\sim Bern(p), \\quad EX = p$}$$\n",
    "\n",
    "<h2>Varijansa</h2>\n",
    "\n",
    "* Slučajna promenljiva $X$ sa Bernulijevom raspodelom sa parametrom $p$ ima varijansu $VarX = p(1 - p)$.\n",
    "\n",
    "<u><h3>**Dokaz**</h3></u> $$P(X = 1) = p, \\quad P(X = 0) = 1 - p, \\quad EX = p$$ \n",
    "Po definiciji varijanse je:\n",
    "\n",
    "$$VarX = E(X - p)^{2} = (1 - p)^{2} \\cdot p + (0 - p)^{2} \\cdot (1 - p) = (1 - p)p(1 - p + p) = p(1 - p).$$\n",
    "\n",
    "Takođe, mogli smo da iskoristimo i poznato svojstvo varijanse:\n",
    "\n",
    "$$VarX = EX^{2} - (EX)^{2} = 1^{2} \\cdot p + 0^{2} \\cdot (1 - p) - p^{2} = p(1 - p)$$\n",
    "\n",
    "$$\\Longrightarrow \\quad \\fbox{$X \\sim Bern(p), \\quad EX = p, \\quad VarX = p(1 - p)$}$$"
   ]
  },
  {
   "cell_type": "markdown",
   "metadata": {},
   "source": [
    "<h2>Primena Bernulijeve raspodele</h2>\n",
    "<h3>Indikator dogadjaja</h3>\n",
    "\n",
    "* Neka je A slučajna promenljiva iz skupa $\\Omega$ svih ishoda\n",
    "$$\\fbox{$ I_A(w) = \n",
    "\\begin{cases}\n",
    "1, \\quad w \\in A, \\\\\n",
    "0, \\quad w \\notin A.\n",
    "\\end{cases}$}$$\n",
    "\n",
    "$$ P(I_A = 1) = P(w\\in A) = P(A) $$\n",
    "$$ P(I_A = 0) = P(w\\in A^c) = P(A^c) = 1 - P(A)$$\n",
    "\n",
    "* Indikator događaja $I_A$ je Bernulijeva slučajna promenljiva sa parametrom $ p = P(A)$.\n",
    "Najčešće se koristi kada želimo da zapišemo izraze u kojima figuriše Bernulijeva raspodela.\n"
   ]
  },
  {
   "cell_type": "markdown",
   "metadata": {},
   "source": [
    "<h1><center>Binomna raspodela</center></h1>\n",
    "<h2>Uvod</h2>\n",
    "\n",
    "* ***Binomna raspodela*** sa parametrima $n$ i $p$ predstavlja diskretnu raspodelu verovatnoće broja uspeha u $n$ nezavisnih eksperimenata gde svaki eksperiment predstavlja jedan Bernulijev eksperiment sa parametom $p$.<br>\n",
    "* Ako je X slučajna promenljiva koja ima binomnu raspodelu sa parametrima $n$ i $p$, oznaka je $X \\sim Bin(n, p)$.\n",
    "\n",
    "* Verovatnoća da slučajna promenljiva $X$ uzima vrednost $k$ je predstavljena sledećom formulom:\n",
    "$$\\fbox{$P(X = k) = \\binom{n}{k}p^{k}(1 - p)^{n - k}$}$$\n",
    "* Grafik funkcije $f(k, n, p) = P(X = k)$ izgleda ovako:"
   ]
  },
  {
   "cell_type": "code",
   "execution_count": 3,
   "metadata": {},
   "outputs": [
    {
     "data": {
      "application/vnd.jupyter.widget-view+json": {
       "model_id": "8c1116f222c24c629a2ef73a4436ad02",
       "version_major": 2,
       "version_minor": 0
      },
      "text/plain": [
       "interactive(children=(IntSlider(value=40, description='n'), FloatSlider(value=0.5, description='p', max=1.0), …"
      ]
     },
     "metadata": {},
     "output_type": "display_data"
    }
   ],
   "source": [
    "def BinomnaFja(x, n, p):\n",
    "    l = np.zeros(len(x))\n",
    "    for i in range(0, len(x)):\n",
    "        l[i] = m.comb(n, x[i]) * p**x[i] * (1 - p)**(n - x[i])\n",
    "    return l\n",
    "\n",
    "@widgets.interact(\n",
    "    color1=['indianred', 'yellow', 'lightseagreen', 'midnightblue', 'gold', 'forestgreen', \n",
    "            'xkcd:rusty red', 'orange', 'royalblue', 'lavenderblush', 'white', 'grey',\n",
    "           'blue', 'red', 'green', 'black'], \n",
    "    color2=['indianred', 'yellow', 'lightseagreen', 'midnightblue', 'gold', 'forestgreen', \n",
    "            'xkcd:rusty red', 'orange', 'royalblue', 'lavenderblush', 'white', 'grey',\n",
    "           'blue', 'red', 'green', 'black'], \n",
    "    color3=['indianred', 'yellow', 'lightseagreen', 'midnightblue', 'gold', 'forestgreen', \n",
    "            'xkcd:rusty red', 'orange', 'royalblue', 'lavenderblush', 'white', 'grey',\n",
    "           'blue', 'red', 'green', 'black'], \n",
    "    n = (0, 100), p = (0, 1.0), YOsa = (0, 0.5))\n",
    "def plot(n = 40, p = 0.5, YOsa = 0.2, color1 = 'forestgreen', color2 = 'white', color3 = 'grey', grid = True):\n",
    "    xOsa = np.arange(0, n + 1, 1)\n",
    "    yOsa = BinomnaFja(xOsa, n, p)\n",
    "    plt.figure(1, figsize=(9,6), dpi=100)\n",
    "    ax = plt.axes()\n",
    "    ax.set_facecolor(color2)\n",
    "    plt.plot(xOsa, yOsa, 'o', color = color1, label=\"n = {0}, p = {1}\".format(n, p))\n",
    "    plt.title(\"Grafik Binomne raspodele\")\n",
    "    if grid:\n",
    "        plt.grid(b=True,which=\"both\", color=color3, linestyle=\"--\")\n",
    "    plt.xlabel('X osa');\n",
    "    plt.ylabel('Y osa');\n",
    "    plt.ylim(0, YOsa)\n",
    "    plt.legend()\n",
    "    plt.show()"
   ]
  },
  {
   "cell_type": "markdown",
   "metadata": {},
   "source": [
    "<h2>Funkcija raspodele</h2>\n",
    "\n",
    "* Binomna raspodela ima sledeću funkciju raspodele:\n",
    "$$\\fbox{$F(k; n, p) = P(X \\leq k) = \\sum_{i = 0}^{\\lfloor{k}\\rfloor} \\binom{n}{i}p^{i}(1 - p)^{n - i}$}$$\n",
    "* To možemo predstaviti sledećim grafikom:"
   ]
  },
  {
   "cell_type": "code",
   "execution_count": 4,
   "metadata": {},
   "outputs": [
    {
     "data": {
      "application/vnd.jupyter.widget-view+json": {
       "model_id": "b21c04120b424f6ba99d3499cc43fb7d",
       "version_major": 2,
       "version_minor": 0
      },
      "text/plain": [
       "interactive(children=(IntSlider(value=40, description='n'), FloatSlider(value=0.5, description='p', max=1.0), …"
      ]
     },
     "metadata": {},
     "output_type": "display_data"
    }
   ],
   "source": [
    "def BinomnaFjaRaspodele(x, n, p):\n",
    "    l = np.zeros(len(x))\n",
    "    for i in range(0, len(x)):\n",
    "        for j in range(0, m.floor(x[i])):\n",
    "            l[i] += m.comb(n, j) * p**j * (1 - p)**(n - j)\n",
    "    return l\n",
    "\n",
    "@widgets.interact(\n",
    "    color1=['indianred', 'yellow', 'lightseagreen', 'midnightblue', 'gold', 'forestgreen', \n",
    "            'xkcd:rusty red', 'orange', 'royalblue', 'lavenderblush', 'white', 'grey',\n",
    "           'blue', 'red', 'green', 'black'], \n",
    "    color2=['indianred', 'yellow', 'lightseagreen', 'midnightblue', 'gold', 'forestgreen', \n",
    "            'xkcd:rusty red', 'orange', 'royalblue', 'lavenderblush', 'white', 'grey',\n",
    "           'blue', 'red', 'green', 'black'], \n",
    "    color3=['indianred', 'yellow', 'lightseagreen', 'midnightblue', 'gold', 'forestgreen', \n",
    "            'xkcd:rusty red', 'orange', 'royalblue', 'lavenderblush', 'white', 'grey',\n",
    "           'blue', 'red', 'green', 'black'], \n",
    "    n = (0, 100), p = (0, 1.0))\n",
    "def plot(n = 40, p = 0.5, color1 = 'forestgreen', color2 = 'white', color3 = 'grey', grid = True):\n",
    "    xOsa = np.arange(0, n + 1, 1)\n",
    "    xOsaH = np.linspace(0, n + 1, 1000)\n",
    "    yOsa = BinomnaFjaRaspodele(xOsa, n, p)\n",
    "    yOsaH = BinomnaFjaRaspodele(xOsaH, n, p)\n",
    "    plt.figure(1, figsize=(9,6), dpi=100)\n",
    "    ax = plt.axes()\n",
    "    ax.set_facecolor(color2)\n",
    "    plt.plot(xOsa, yOsa, 'o', color = color1, label=\"n = {0}, p = {1}\".format(n, p))\n",
    "    plt.scatter(xOsaH, yOsaH, s = 0.1, color = color1)\n",
    "    plt.title(\"Funkcija raspodele binomne raspodele\")\n",
    "    if grid:\n",
    "        plt.grid(b=True,which=\"both\", color=color3, linestyle=\"--\")\n",
    "    plt.xlabel('X osa');\n",
    "    plt.ylabel('Y osa');\n",
    "    plt.ylim(0, 1.1)\n",
    "    plt.legend()\n",
    "    plt.show()"
   ]
  },
  {
   "cell_type": "markdown",
   "metadata": {},
   "source": [
    "<h2>Matematičko očekivanje</h2>\n",
    "\n",
    "* Slučajna promenljiva $X$ sa Binomnom raspodelom sa parametrima $n$ i $p$ ima matematičko očekivanje $EX = np$.\n",
    "\n",
    "<u><h3>**Dokaz**</h3></u> $$X \\sim Bin(n, p) \\quad \\Longrightarrow \\quad P(X = k) = \\binom{n}{k}p^{k}(1 - p)^{n - k}, \\quad k = 0, 1, ... n$$\n",
    "Po definiciji matematičkog očekivanja je:\n",
    "$$EX = \\sum_{k = 0}^{n} k \\cdot P(X = k) = \\sum_{k = 0}^{n} k \\binom{n}{k}p^{k}(1 - p)^{n - k}$$\n",
    "$$EX = \\sum_{k = 0}^{n} \\frac{n (n - 1) ... (n - k + 1)}{(k - 1)!}p^{k}(1 - p)^{n - k}$$\n",
    "\n",
    "Ako izdvojimo $pn$ iz ovog izraza i sredimo razlomak u binomni koeficijent imamo da je\n",
    "\n",
    "$$EX = pn \\sum_{k = 1}^{n} \\binom{n - 1}{k - 1}p^{k - 1}(1 - p)^{n - 1 - (k - 1)}$$\n",
    "Sada možemo da uvedemo smenu $t = k - 1$ i da dobijemo\n",
    "$$EX = pn \\sum_{t = 0}^{n - 1} \\binom{n - 1}{t}p^{t}(1 - p)^{n - 1 - t},$$\n",
    "a ova suma predstavlja binomnu formulu pa je\n",
    "\n",
    "$$EX = pn(p + 1 - p)^{n - 1} = np \\quad \\Longrightarrow \\quad \\fbox{$X \\sim Bin(n, p), \\quad EX  = np$}$$\n",
    "\n",
    "Takođe, mogli smo da iskoristimo svojstva binomne raspodele i matematičkog očekivanja:\n",
    "\n",
    "$$X = X_1 + X_2 + ... X_n, \\quad X_i \\sim Bern(p) \\quad \\Longrightarrow \\quad EX_i = p, \\quad i = 1, 2, ..., n$$\n",
    "\n",
    "$$EX = E(X_1 + X_2 + ... X_n) = EX_1 + EX_2 + ... + EX_n = \\sum_{i = 1}^{n} p = np.$$\n",
    "\n",
    "<h2>Varijansa</h2>\n",
    "\n",
    "* Slučajna promenljiva $X$ sa Binomnom raspodelom sa parametrima $n$ i $p$ ima varijansu $VarX = np(1 - p)$.\n",
    "\n",
    "<u><h3>**Dokaz**</h3></u>\n",
    "\n",
    "Možemo da iskoristimo svojstva binomne raspodele i varijanse:\n",
    "\n",
    "$$X = X_1 + X_2 + ... X_n, \\quad X_i \\sim Bern(p) \\quad \\Longrightarrow \\quad VarX_i = p(1 - p), \\quad i = 1, 2, ..., n$$\n",
    "\n",
    "$X_1, X_2, ..., X_n$ su **nezavisne** slučajne promenljive, pa je\n",
    "\n",
    "$$VarX = Var(X_1 + X_2 + ... X_n) = VarX_1 + VarX_2 + ... + VarX_n = \\sum_{i = 1}^{n} p(1 - p) = np(1 - p)$$\n",
    "\n",
    "$$\\Longrightarrow \\quad \\fbox{$X \\sim Bin(n, p), \\quad EX = np, \\quad VarX = np(1 - p)$}$$"
   ]
  },
  {
   "cell_type": "markdown",
   "metadata": {},
   "source": [
    "<h2>Veze sa drugim raspodelama</h2>\n",
    "\n",
    "<h3>Normalna raspodela</h3>\n",
    "\n",
    "Ako je $n$ dovoljno veliko, grafik raspodele neće biti dovoljno simetričan. U ovom slučaju binomnu raspodelu $Bin(n,p)$ možemo aproksimirati normalnom raspodelom: $$\\fbox{$\\mathcal{N}(np,np(1-p))$}.$$  \n",
    "Što je vrednost $n$ veća (najbolje veća od 20) ova aproksimacija se poboljšava. Takođe, dobro je ako vrednost $p$ nije blizu 0 i 1. <br>\n",
    "Postoje razna pravila da se odredi da li je $n$ dovoljno veliko i da li $p$ odstupa dovoljno od 0 i 1: <br>\n",
    "* Jedno pravilo glasi da ako je $n>5$, normalna raspodela je adekvatna aproksimacija ako je apsolutna vrednost zakrivljenosti krive strogo manja od $1/3$, odnosno:\n",
    "$$\\frac{|1-2p|}{\\sqrt{np(1-p)}}=\\frac{1}{\\sqrt{n}}\\left|\\sqrt{\\frac{1-p}{p}}-\\sqrt{\\frac{p}{1-p}}\\right| < \\frac{1}{3}.$$\n",
    "<br>\n",
    "* Jedno još jače pravilo nalaže da je normalna raspodela adekvatna aproksimacija samo ako ceo opseg od $-3\\sigma$ do $3\\sigma$ pripada domenu mogućih vrednosti, tj. ako je: \n",
    "$$\\mu\\pm3\\sigma=np\\pm 3 \\sqrt{np(1-p)} \\in (0,n)$$ \n",
    "ovo pravilo je ekvivalentno sledećim uslovima i takođe podrazumeva prvo pravilo.\n",
    "$$ n > 9\\left(\\frac{1-p}{p}\\right), \\quad     n > 9\\left(\\frac{p}{1-p}\\right).$$\n",
    "\n",
    "<u><h3>**Dokaz**</h3></u>\n",
    "\n",
    "Pravilo $np\\pm 3 \\sqrt{np(1-p)} \\in (0,n)$ je ekvivalentno sa:\n",
    "$$np - 3 \\sqrt{np(1-p)} > 0, \\quad np + 3 \\sqrt{np(1-p)} < n,$$ \n",
    "odakle dobijamo:\n",
    "$$np > 3 \\sqrt{np(1-p)}, \\quad n(1-p) > 3 \\sqrt{np(1-p)}.$$ \n",
    "\n",
    "Pošto je ${\\displaystyle 0<p<1}$, možemo ove nejednačine kvadrirati i podetliti faktorima ${\\displaystyle np^{2}}$ i  ${\\displaystyle n(1-p)^{2}}$, respektivno, da bi dobili željene uslove:\n",
    "\n",
    "$$ n > 9\\left(\\frac{1-p}{p}\\right), \\quad     n > 9\\left(\\frac{p}{1-p}\\right).$$ <br>\n",
    "Ovi uslovi nam govore da je $n>9$. Ako korenujemo i podelimo sa 3 dobijamo:\n",
    "\n",
    "$$ \\frac{\\sqrt{n}}{3} > \\sqrt{\\left(\\frac{1-p}{p}\\right)} > 0, \\quad   \\frac{\\sqrt{n}}{3} > \\sqrt{\\left(\\frac{p}{1-p}\\right)} > 0.$$ <br>\n",
    "Daljim kombinovanjem dobijamo:\n",
    "$$\\frac{\\sqrt{n}}{3} > \\sqrt{\\left(\\frac{1-p}{p}\\right)} - \\sqrt{\\left(\\frac{p}{1-p}\\right)} > -\\frac{\\sqrt{n}}{3},$$ <br>\n",
    "što je zapravo prvo pravilo:\n",
    "$$\\left|\\sqrt{\\frac{1-p}{p}}-\\sqrt{\\frac{p}{1-p}}\\right| < \\frac{\\sqrt{n}}{3}.$$"
   ]
  },
  {
   "cell_type": "code",
   "execution_count": 5,
   "metadata": {},
   "outputs": [
    {
     "data": {
      "application/vnd.jupyter.widget-view+json": {
       "model_id": "9740f14361154ec4bcf4be995f7cc4f0",
       "version_major": 2,
       "version_minor": 0
      },
      "text/plain": [
       "interactive(children=(IntSlider(value=40, description='n'), FloatSlider(value=0.5, description='p', max=1.0), …"
      ]
     },
     "metadata": {},
     "output_type": "display_data"
    }
   ],
   "source": [
    "def BinomnaFja(x, n, p):\n",
    "    l = np.zeros(len(x))\n",
    "    for i in range(0, len(x)):\n",
    "        l[i] = m.comb(n, x[i]) * p**x[i] * (1 - p)**(n - x[i])\n",
    "    return l\n",
    "\n",
    "def NormalnaFja(x, n, p):\n",
    "    mi = n*p\n",
    "    sigkva = n*p*(1 - p)\n",
    "    l=np.zeros(len(x))\n",
    "    for i in range(0, len(x)):\n",
    "        l[i]= 1/np.sqrt(np.pi*2*sigkva)*np.e**(-((x[i]-mi)**2)/(2*sigkva))\n",
    "    return l\n",
    "\n",
    "@widgets.interact(\n",
    "    color1=['indianred', 'yellow', 'lightseagreen', 'midnightblue', 'gold', 'forestgreen', \n",
    "            'xkcd:rusty red', 'orange', 'royalblue', 'lavenderblush', 'white', 'grey',\n",
    "           'blue', 'red', 'green', 'black'], \n",
    "    color2=['indianred', 'yellow', 'lightseagreen', 'midnightblue', 'gold', 'forestgreen', \n",
    "            'xkcd:rusty red', 'orange', 'royalblue', 'lavenderblush', 'white', 'grey',\n",
    "           'blue', 'red', 'green', 'black'], \n",
    "    color3=['indianred', 'yellow', 'lightseagreen', 'midnightblue', 'gold', 'forestgreen', \n",
    "            'xkcd:rusty red', 'orange', 'royalblue', 'lavenderblush', 'white', 'grey',\n",
    "           'blue', 'red', 'green', 'black'], \n",
    "    n = (0, 100), p = (0, 1.0), YOsa = (0, 0.5))\n",
    "def plot(n = 40, p = 0.5, YOsa = 0.2, color1 = 'forestgreen', color2 = 'white', color3 = 'grey', grid = True):\n",
    "    xOsa1 = np.linspace(0, n + 1, 200)\n",
    "    xOsa2 = np.arange(0, n + 1, 1)\n",
    "\n",
    "    yOsa1 = NormalnaFja(xOsa1, n, p) #np=20, np(1-p)=10\n",
    "    yOsa2 = BinomnaFja(xOsa2, n, p) #n=40, p=0.5\n",
    "\n",
    "    plt.figure(2, figsize=(16, 12), dpi=150)\n",
    "    \n",
    "    fig1 = plt.subplot(2,2,1)\n",
    "    fig1.set_facecolor(color2)\n",
    "    plt.plot(xOsa2, yOsa2, 'o', color = color1, label=\"n = {0}, p = {1}\".format(n, p))\n",
    "\n",
    "    plt.subplots_adjust(hspace=.3, wspace=.15)\n",
    "    plt.title(\"Grafik binomne raspodele\")\n",
    "    if(grid):\n",
    "        plt.grid(b=True,which=\"both\", color=color3, linestyle=\"--\")\n",
    "    plt.xlabel('X osa')\n",
    "    plt.ylabel('Y osa')\n",
    "    plt.ylim(0, YOsa)\n",
    "    plt.legend()\n",
    "\n",
    "    fig2 = plt.subplot(2,2,2)\n",
    "    fig2.set_facecolor(color2)\n",
    "    plt.plot(xOsa1, yOsa1, 'o', color = color1, label=\"n = {0}, p = {1}\".format(n, p))\n",
    "\n",
    "    plt.subplots_adjust(hspace=.3, wspace=.15)\n",
    "    plt.title(\"Grafik ekvivalentne normalne raspodele\")\n",
    "    if(grid):\n",
    "        plt.grid(b=True,which=\"both\", color=color3, linestyle=\"--\")\n",
    "\n",
    "    plt.xlabel('X osa')\n",
    "    plt.ylabel('Y osa')\n",
    "    plt.ylim(0, YOsa)"
   ]
  },
  {
   "cell_type": "markdown",
   "metadata": {},
   "source": [
    "<h3>Poasonova raspodela </h3>\n",
    "\n",
    "* Ako je $n$ veliko, a $p$ relativno malo, odgovarajuću binomnu raspodelu $Bin(n,p)$ možemo takođe aproksimirati Poasonovom raspodelom $Poiss(\\lambda)$, gde je $\\lambda=np$. Empirijsko pravilo nalaže da bi bilo najbolje da pri aproksimaciji važi $np\\leq5$.\n",
    "\n",
    "<u><h3>**Dokaz**</h3></u>\n",
    "$$X\\sim Bin(n,p) \\quad \\wedge \\quad \\lambda=np \\quad \\Longrightarrow \\quad p = \\displaystyle{\\frac{\\lambda}{n}}$$.\n",
    "$$P(X=k) = \\binom{n}{k}\\cdotp^{k}\\cdot(1-p)^{n-k} \\quad = \\quad \\displaystyle{\\frac{n(n-1)\\cdot\\dots\\cdot(n-k+1)}{k!}} \\cdot \\left(\\frac{\\lambda}{n}\\right)^{k} \\cdot \\left(1-\\frac{\\lambda}{n}\\right)^{n-k}$$\n",
    "\n",
    "$$P(X=k) = \\displaystyle{\\frac{n(n-1)\\cdot\\dots\\cdot(n-k+1)}{n^{k}} \\cdot \\frac{\\lambda^{k}}{k!} \\cdot \n",
    "\\frac{\\left(1-\\frac{\\lambda}{n}\\right)^{n}}{\\left(1-\\frac{\\lambda}{n}\\right)^{k}}}$$ <br>\n",
    "Pošto je n dovoljno veliko, brojilac prvog člana možemo posmatrati kao polinom k-tog stepena sa vodećim koeficijentom 1 tako da će važiti:\n",
    "\n",
    "$$\\lim_{n \\to +\\infty} \\displaystyle{\\frac{n(n-1)\\cdot\\dots\\cdot(n-k+1)}{n^{k}}} = 1 $$ <br>\n",
    "Takođe, pošto je $\\lambda$ konstanta i n je veliko, važi:\n",
    "$$\\lim_{n \\to +\\infty} \\left(1-\\frac{\\lambda}{n}\\right)=1 \\implies \\lim_{n \\to +\\infty} \\left(1-\\frac{\\lambda}{n}\\right)^{n} = e^{-\\lambda} \\quad , \\quad \\lim_{n \\to +\\infty} \\left(1-\\frac{\\lambda}{n}\\right)^{k}= 1$$ <br>\n",
    "Kada sve ovo ubacimo u prethodni izraz dobijamo sledeće:\n",
    "\n",
    "$$\\fbox{$P(X=k) \\approx e^{-\\lambda}\\cdot \\frac{\\lambda^{k}}{k!} \\quad , \\quad \\lambda=np$}$$ <br>\n",
    "Ova formula odgovara formuli Poasonove raspodele sa parametrom $\\lambda$, što je i trebalo dokazati."
   ]
  },
  {
   "cell_type": "code",
   "execution_count": 6,
   "metadata": {},
   "outputs": [
    {
     "data": {
      "application/vnd.jupyter.widget-view+json": {
       "model_id": "44cb717042bf49d58f8a4c16e59d1ede",
       "version_major": 2,
       "version_minor": 0
      },
      "text/plain": [
       "interactive(children=(IntSlider(value=40, description='n'), FloatSlider(value=0.5, description='p', max=1.0), …"
      ]
     },
     "metadata": {},
     "output_type": "display_data"
    }
   ],
   "source": [
    "def BinomnaFja(x, n, p):\n",
    "    l = np.zeros(len(x))\n",
    "    for i in range(0, len(x)):\n",
    "        l[i] = m.comb(n, x[i]) * p**x[i] * (1 - p)**(n - x[i])\n",
    "    return l\n",
    "\n",
    "def facto(k):\n",
    "    fakt=1\n",
    "    for i in range(2,k+1):\n",
    "        fakt=fakt*i\n",
    "    return fakt\n",
    "    \n",
    "def PoasonovaFja(x, n, p):\n",
    "    lambdaa=n*p\n",
    "    l=np.zeros(len(x))\n",
    "    for i in range(0, len(x)):\n",
    "        l[i]= (lambdaa**x[i])*(np.e**(-lambdaa)) /  facto(x[i])\n",
    "    return l\n",
    "\n",
    "@widgets.interact(\n",
    "    color1=['indianred', 'yellow', 'lightseagreen', 'midnightblue', 'gold', 'forestgreen', \n",
    "            'xkcd:rusty red', 'orange', 'royalblue', 'lavenderblush', 'white', 'grey',\n",
    "           'blue', 'red', 'green', 'black'], \n",
    "    color2=['indianred', 'yellow', 'lightseagreen', 'midnightblue', 'gold', 'forestgreen', \n",
    "            'xkcd:rusty red', 'orange', 'royalblue', 'lavenderblush', 'white', 'grey',\n",
    "           'blue', 'red', 'green', 'black'], \n",
    "    color3=['indianred', 'yellow', 'lightseagreen', 'midnightblue', 'gold', 'forestgreen', \n",
    "            'xkcd:rusty red', 'orange', 'royalblue', 'lavenderblush', 'white', 'grey',\n",
    "           'blue', 'red', 'green', 'black'], \n",
    "    n = (0, 100), p = (0, 1.0), YOsa = (0, 0.5))\n",
    "def plot(n = 40, p = 0.5, YOsa = 0.2, color1 = 'forestgreen', color2 = 'white', color3 = 'grey', grid = True):\n",
    "    xOsa1 = np.arange(0, n + 1, 1)\n",
    "    xOsa2 = np.arange(0, n + 1, 1)\n",
    "\n",
    "    yOsa1 = PoasonovaFja(xOsa1, n, p) \n",
    "    yOsa2 = BinomnaFja(xOsa2, n, p) \n",
    "\n",
    "    plt.figure(2, figsize=(16, 12), dpi=150)\n",
    "    \n",
    "    fig1 = plt.subplot(2,2,1)\n",
    "    fig1.set_facecolor(color2)\n",
    "    plt.plot(xOsa2, yOsa2, 'o', color = color1, label=\"n = {0}, p = {1}\".format(n, p))\n",
    "\n",
    "    plt.subplots_adjust(hspace=.3, wspace=.15)\n",
    "    plt.title(\"Grafik binomne raspodele\")\n",
    "    if(grid):\n",
    "        plt.grid(b=True,which=\"both\", color=color3, linestyle=\"--\")\n",
    "    plt.xlabel('X osa')\n",
    "    plt.ylabel('Y osa')\n",
    "    plt.ylim(0, YOsa)\n",
    "    plt.legend()\n",
    "\n",
    "    fig2 = plt.subplot(2,2,2)\n",
    "    fig2.set_facecolor(color2)\n",
    "    plt.plot(xOsa1, yOsa1, 'o', color = color1, label=\"n = {0}, p = {1}\".format(n, p))\n",
    "\n",
    "    plt.subplots_adjust(hspace=.3, wspace=.15)\n",
    "    plt.title(\"Grafik ekvivalentne Poasonove raspodele\")\n",
    "    if(grid):\n",
    "        plt.grid(b=True,which=\"both\", color=color3, linestyle=\"--\")\n",
    "\n",
    "    plt.xlabel('X osa')\n",
    "    plt.ylabel('Y osa')\n",
    "    plt.ylim(0, YOsa)"
   ]
  },
  {
   "cell_type": "markdown",
   "metadata": {},
   "source": [
    "<h3>Hipergeometrijska raspodela </h3>\n",
    "\n",
    "Neka $X$ ima hipergeometrijsku raspodelu sa parametrima $n, m, r$. Pretpostavimo sledeće: <br>\n",
    "* $n$ - broj predmeta nad kojima vršimo neki odabir\n",
    "* $m$ - broj tih predmeta koji su na neki naćin specijalni\n",
    "* $r$ - broj predmeta koje nasumično biramo <br>\n",
    "\n",
    "$X$ predstavlja broj specijalnih predmeta koje smo odabrali i kreće se u opsegu od 0 do $r$. <br>\n",
    "U slučaju da su $n$ i $m$ dosta veliki u odnosu na $r$ , ovu raspodelu možemo aproksimirati odgovarajućom binomnom raspodelom sa parametrima $\\displaystyle{Bin\\left(r,\\frac{m}{n}\\right)}$. <br>\n",
    "Naime, kod odabira prvog predmeta verovatnoća da će on biti specijalan je $\\displaystyle{\\frac{m}{n}}$. <br> Kod svakog sledećeg odabira verovatnoća će varirati zavisno od toga da li smo u prethodnom odabiru izabrali specijalan predmet (ako jesmo tada će se brojilac smanjiti za 1, a ako nismo onda ostaje isti, a imenilac će se svakako smanjiti za 1). <br>\n",
    "Ovakvih odabira će biti ukupno $r$. Pošto znamo da su $m$ i $n$ dosta veći od $r$, možemo aproksimirati verovatnoću prilikom svakog odabira sa $\\displaystyle{\\frac{m}{n}}$ što neće napraviti veliku razliku. <br>\n",
    "Ako zamislimo da je odabir specijalnog predmeta ekvivalentan uspešnom ishodu Bernulijevog eksperimenta ovom aproksimacijom dobijamo pomenutu binomnu raspodelu sa parametrima $\\displaystyle{Bin\\left(r,\\frac{m}{n}\\right)}$.\n",
    "\n",
    "<u><h3>**Dokaz**</h3></u>\n",
    "\n",
    "$$ \\fbox{$ X \\sim Hypergeometric(n,m,r) \\implies \\displaystyle {P(X=k)=} \\displaystyle{\\frac{\\displaystyle{\\binom{m}{r} \\cdot \\binom{n-m}{r-k}}}{\\displaystyle{\\binom{n}{r}}}} $}$$ <br>\n",
    "$$P(X=k) = \\displaystyle{\\frac{\\displaystyle{\\frac{m(m-1)\\cdot\\dots\\cdot(m-k+1)}{k!}\\cdot\\frac{(n-m)(n-m-1)\\cdot\\dots\\cdot\n",
    "(n-m-r+k+1)}{(r-k)!}}}{\\displaystyle{\\frac{n(n-1)\\cdot\\dots\\cdot(n-k+1)}{r!}}}}$$\n",
    "Kako je $\\displaystyle{\\binom{r}{k}= \\displaystyle{\\frac{r!}{k! (r-k)!}}}$ sledi:\n",
    "\n",
    "$$P(X=k) = \\binom{r}{k}\\cdot \\frac{m(m-1)\\cdot\\dots\\cdot(m-k+1)}{n(n-1)\\cdot\\dots\\cdot(n-k+1)} \\cdot\n",
    "\\frac{(n-m)(n-m-1)\\cdot\\dots\\cdot(m-m-r+k+1)}{(n-k)(n-k-1)\\cdot\\dots\\cdot(n-k-r+k+1)}$$\n",
    "<br>\n",
    "Pošto smo uzeli da su $m$ i $n$ dovoljno veliki u odnosu na $r$ i $k$ možemo iskoristiti sledeće:\n",
    "\n",
    "$$\\frac{m(m-1)\\cdot\\dots\\cdot(m-k+1)}{n(n-1)\\cdot\\dots\\cdot(n-k+1)} \\approx \\displaystyle{\\left(\\frac{m}{n}\\right)^{k}} \\quad , \n",
    "\\quad\n",
    "\\frac{(n-m)(n-m-1)\\cdot\\dots\\cdot(m-m-r+k+1)}{(n-k)(n-k-1)\\cdot\\dots\\cdot(n-r+1)} \\approx \\displaystyle{\\left(\\frac{n-m}{n}\\right)^{r-k}}$$ <br>\n",
    "Konačno:\n",
    "$$P(X=k) \\approx \\binom{r}{k} \\cdot \\left(\\frac{m}{n}\\right)^{k} \\cdot \\left(\\frac{n-m}{n}\\right)^{r-k} \\implies \n",
    "\\fbox{$ X \\sim \\displaystyle{Bin\\left(r,\\frac{m}{n}\\right)} $} $$\n",
    "\n"
   ]
  },
  {
   "cell_type": "code",
   "execution_count": 7,
   "metadata": {},
   "outputs": [
    {
     "data": {
      "application/vnd.jupyter.widget-view+json": {
       "model_id": "356c22d1aa42404bbcb86666a0e816dc",
       "version_major": 2,
       "version_minor": 0
      },
      "text/plain": [
       "interactive(children=(IntSlider(value=40, description='N', max=200), IntSlider(value=20, description='M', max=…"
      ]
     },
     "metadata": {},
     "output_type": "display_data"
    }
   ],
   "source": [
    "def BinomnaFja(x, n, p):\n",
    "    l = np.zeros(len(x))\n",
    "    for i in range(0, len(x)):\n",
    "        l[i] = m.comb(n, x[i]) * p**x[i] * (1 - p)**(n - x[i])\n",
    "    return l\n",
    "\n",
    "def facto(k):\n",
    "    fakt=1\n",
    "    for i in range(2,k+1):\n",
    "        fakt=fakt*i\n",
    "    return fakt\n",
    "    \n",
    "def HiperGeomFja(x, n, ma, r):\n",
    "    l=np.zeros(len(x))\n",
    "    for i in range(0, len(x)):\n",
    "        l[i]= m.comb(ma , x[i]) * m.comb(n - ma, r - x[i]) / m.comb(n,r)\n",
    "    return l\n",
    "\n",
    "@widgets.interact(\n",
    "    color1=['indianred', 'yellow', 'lightseagreen', 'midnightblue', 'gold', 'forestgreen', \n",
    "            'xkcd:rusty red', 'orange', 'royalblue', 'lavenderblush', 'white', 'grey',\n",
    "           'blue', 'red', 'green', 'black'], \n",
    "    color2=['indianred', 'yellow', 'lightseagreen', 'midnightblue', 'gold', 'forestgreen', \n",
    "            'xkcd:rusty red', 'orange', 'royalblue', 'lavenderblush', 'white', 'grey',\n",
    "           'blue', 'red', 'green', 'black'], \n",
    "    color3=['indianred', 'yellow', 'lightseagreen', 'midnightblue', 'gold', 'forestgreen', \n",
    "            'xkcd:rusty red', 'orange', 'royalblue', 'lavenderblush', 'white', 'grey',\n",
    "           'blue', 'red', 'green', 'black'], \n",
    "    N = (0, 200), M = (0, 200), R=(0,200), YOsa = (0, 0.5))\n",
    "\n",
    "def f(N = 40, M = 20, R=10, YOsa = 0.3, color1 = 'forestgreen', color2 = 'white', color3 = 'grey', grid = True):\n",
    "    ma=M\n",
    "    n=N\n",
    "    r=R\n",
    "    if ma>=n or r>=n: \n",
    "        print(\"Loš izbor parametara (n mora biti veće od m i r)\")\n",
    "        return\n",
    "    \n",
    "    xOsa1 = np.arange(0, r + 1, 1)\n",
    "    xOsa2 = np.arange(0, r + 1, 1)\n",
    "\n",
    "    yOsa1 = BinomnaFja(xOsa1, r, ma/n) \n",
    "    yOsa2 = HiperGeomFja(xOsa2, n, ma, r) \n",
    "\n",
    "    plt.figure(2, figsize=(16, 12), dpi=150)\n",
    "    \n",
    "    fig1 = plt.subplot(2,2,1)\n",
    "    fig1.set_facecolor(color2)\n",
    "    plt.plot(xOsa2, yOsa2, 'o', color = color1, label=\"n = {0}, m = {1}, r = {2}\".format(n, ma, r))\n",
    "\n",
    "    plt.subplots_adjust(hspace=.3, wspace=.15)\n",
    "    plt.title(\"Grafik hipergeometrijske raspodele\")\n",
    "    if(grid):\n",
    "        plt.grid(b=True,which=\"both\", color=color3, linestyle=\"--\")\n",
    "    plt.xlabel('X osa')\n",
    "    plt.ylabel('Y osa')\n",
    "    plt.ylim(0, YOsa)\n",
    "    plt.legend()\n",
    "\n",
    "    fig2 = plt.subplot(2,2,2)\n",
    "    fig2.set_facecolor(color2)\n",
    "    plt.plot(xOsa1, yOsa1, 'o', color = color1, label=\"n = {0}, m = {1}, r = {2}\".format(n, ma, r))\n",
    "\n",
    "    plt.subplots_adjust(hspace=.3, wspace=.15)\n",
    "    plt.title(\"Grafik ekvivalentne binomne raspodele\")\n",
    "    if(grid):\n",
    "        plt.grid(b=True,which=\"both\", color=color3, linestyle=\"--\")\n",
    "\n",
    "    plt.xlabel('X osa')\n",
    "    plt.ylabel('Y osa')\n",
    "    plt.ylim(0, YOsa)\n"
   ]
  },
  {
   "cell_type": "markdown",
   "metadata": {},
   "source": [
    "<h2>Primena binomne raspodele u svakodnevnom zivotu</h2>\n",
    "<h3>Uvod</h3>\n",
    "\n",
    "* ***Bernulijeva raspodela*** se u svakodnevnom životu može koristiti da se predvidi ishod bilo kog dogadjaja koji ima dva ishoda, uspešan i neušpesan. Ako ponavljamo te dogadjaje dobijamo ***Binomnu raspodelu*** koja se onda može primeniti na neka naprednija predvidjanja. Predvidjanja ne moraju da se ispune uvek, ali mogu da nam daju dobru ideju šta da očekujemo i ako neki eksperimenti mnogo odudaraju od tog predvidjanja onda nam to može sugerisati na eventualne greške ili kvarove. Dakle binomna raspodela nam pomaže da razumemo koliko su retki neki dogadjaji i preko nje možemo da postavimo očekivane opsege odgovarajućeg dogadjaja\n",
    "\n",
    "<h3>Bacanje novčića</h3>\n",
    "\n",
    "* Najjednostavniji primer binomne raspodele je ***bacanje novčića***. Kao što vidimo dole na grafiku, mnogo su verovatniji brojevi blizu $50$ jer je verovatnoća upseha (da padne pismo) $p = 0.5$, a bacamo novčić $100$ puta. Binomna raspodela nam ovde daje opseg koji da očekujemo, recimo $40-60$ pisama. Isto tako znamo da nije nemoguće da padne više od $70$ puta pismo, ali konkretne šanse su približno $0.00004$, što nam može biti znak da ako više puta dobijamo veliki broj pisama nešto nije dobro sa našim \"fer\" novčićem.\n"
   ]
  },
  {
   "cell_type": "code",
   "execution_count": 8,
   "metadata": {},
   "outputs": [
    {
     "data": {
      "image/png": "[encoded data removed]",
      "text/plain": [
       "<Figure size 900x600 with 1 Axes>"
      ]
     },
     "metadata": {
      "needs_background": "light"
     },
     "output_type": "display_data"
    }
   ],
   "source": [
    "def BinomnaFja(x, n, p):\n",
    "    l = np.zeros(len(x))\n",
    "    for i in range(0, len(x)):\n",
    "        l[i] = m.comb(n, x[i]) * p**x[i] * (1 - p)**(n - x[i])\n",
    "    return l\n",
    "\n",
    "xOsa3 = np.arange(0, 100, 1)\n",
    "\n",
    "yOsa3 = BinomnaFja(xOsa3, 100, 0.5)\n",
    "\n",
    "plt.figure(1, figsize=(9,6), dpi=100)\n",
    "\n",
    "plt.plot(xOsa3, yOsa3, 'o', color = \"gold\", label=\"p = 0.5, n = 100\")\n",
    "\n",
    "plt.title(\"Grafik bacanja novčića\")\n",
    "plt.grid(b=True,which=\"both\", color=\"grey\", linestyle=\"--\")\n",
    "plt.xlabel('Broj pisama');\n",
    "plt.ylabel('Verovatnoća dogadjaja');\n",
    "plt.ylim(0, 0.1)\n",
    "plt.legend()\n",
    "plt.show()"
   ]
  },
  {
   "cell_type": "markdown",
   "metadata": {},
   "source": [
    "<h3> Procene u genetici</h3>\n",
    "\n",
    "* Ako želimo da znamo koje su šanse da, recimo, $5$ od  $10$ dece nasledi baš osobinu AA, gde kombinacija para alela AA ima verotnoću $p$ koja zavisi od genetike roditelja, to jest njihove kombinacije para alela za tu konkretnu osobinu, koristićemo binomnu raspodelu sa parametrima $p, k=5$ i $ n=10$.\n",
    "* Takodje ako bi hteli da vidimo koje su šanse da od $4$ dece, tačno $2$ budu dečaci i $2$ budu devojčice, i za to ćemo koristiti binomnu raspodelu.\n",
    "* Neka je šansa da se rodi dečak $0.5$ ( u stvarnosti su malo veće, oko $0.51$ ali zavisi i od područja) što će u našem slučaju biti povoljan ishod, a broj izvodjenja eksperimenta će biti $4$, onda je:\n",
    "$$ P(X = 2) = 0.375 $$\n",
    "To jest šansa da bude $2$ dečaka i devojčica je $37.5$%"
   ]
  },
  {
   "cell_type": "markdown",
   "metadata": {},
   "source": [
    "<h3>Broj spam email-a</h3>\n",
    "\n",
    "* Email kompanije koriste binomnu raspodelu u proceni broja spam email-a u sandučetu po danu.\n",
    "* Recimo da se zna da je $4\\%$ svih email-a spam. Ako nalog dobija $20$ email-a po danu, možemo da iskoristimo binomnu raspodelu da nadjemo šanse da je broj spam email-a baš onaj koji smo izabrali.\n",
    "\n",
    " $$ P(X = 0) = 0.44200$$\n",
    "$$ P(X = 1) = 0.36834$$\n",
    "$$ P(X = 2) = 0.14580$$"
   ]
  },
  {
   "cell_type": "markdown",
   "metadata": {},
   "source": [
    "<h3> Perfomanse modela mašinskog učenja</h3>\n",
    "\n",
    "* Recimo da smo napravili model mašinskog učenja sa binarnim ishodom. Neka je to na primer patološko prepoznavanje slike, algoritam za kancer jetre sa preciznošću od $90\\%$. Testirali smo algoritam na $100$ pacijenata i sad nas zanimaju konkretne verovatnoće dogadjaja. Dobili smo da je algoritam bio precizan u $75\\%$ slučajeva. Da li je to samo slučajnost ili bi ipak trebali da optimizujemo algoritam?\n",
    "\n",
    "$$ P(X \\leq 75) \\approx 0.00001 $$\n",
    "\n",
    "* Ovo nam je naznaka da skoro sigurno nije slučajnost, nego nam treba optimizacija.\n"
   ]
  },
  {
   "cell_type": "markdown",
   "metadata": {},
   "source": [
    "<h3>Broj lažnih transakcija</h3>\n",
    "\n",
    "* Banke koriste binomnu raspodelu da procene verovatnoću odredjenog broja lažnih transakcija na kreditnoj kartici.\n",
    "* Na primer ako se zna da je $2\\%$ svih transakcija u nekom regionu lažno i recimo da ima $50$ transakcija dnevno onda možemo preko binomne raspodele da dodjemo do procene koje su šanse da broj lažnih transakcija bude veći od izabranog broja.\n",
    "\n",
    " $$ P(X > 1) = 0.26423$$\n",
    "$$ P(X > 2) = 0.07843$$\n",
    "$$ P(X > 3) = 0.01776$$\n",
    "\n",
    "* Ovo daje banci ideju koliko je verovatno da se desi više lažnih transakcija od nekog odredjenog broja.\n",
    "\n",
    "\n"
   ]
  },
  {
   "cell_type": "markdown",
   "metadata": {},
   "source": [
    "<h2>Primena binomne raspodele u analizi podataka</h2>\n",
    "\n",
    "* Šta ako želimo da analiziramo stvari kompleksnije od bacanja novčića? Prođimo kroz stilizovani slučaj upotrebe binomne raspodele u stvarnom svetu. Zamislite da smo mi analitičari podataka čiji je zadatak da poboljšamo ROI - Return on Investment (povraćaj ulaganja) pozivnog centra naše kompanije, gde zaposleni pozovu potencijalne kupce i navode ih da kupe naš proizvod.\n",
    "\n",
    "Gledamo trenutno dostupne podatke: <br>\n",
    "* Tipični zaposlen u call centru obavi u proseku 50 poziva dnevno.\n",
    "* Verovatnoća uspeha (kupovine) za svaki poziv je 4%.\n",
    "* Prosečni prihod kompanije za svaku kupovinu je 20 dolara.\n",
    "* Pozivni centar koji analiziramo ima 100 zaposlenih.\n",
    "* Svakom zaposlenom se plaća 200 dolara po danu rada. <br>\n",
    "\n",
    "\n",
    "Svakog zaposlenog tretiramo kao slučajnu promenljivu sa binomnom raspodelom sa parametrima $N = 50$ i $p = 4\\%$.\n"
   ]
  },
  {
   "cell_type": "code",
   "execution_count": 9,
   "metadata": {},
   "outputs": [
    {
     "data": {
      "application/vnd.jupyter.widget-view+json": {
       "model_id": "0a8a1fdddb4e4575830ba3fed6ffcbc1",
       "version_major": 2,
       "version_minor": 0
      },
      "text/plain": [
       "interactive(children=(Dropdown(description='color1', index=12, options=('indianred', 'yellow', 'lightseagreen'…"
      ]
     },
     "metadata": {},
     "output_type": "display_data"
    }
   ],
   "source": [
    "import numpy as np\n",
    "import matplotlib.pyplot as plt\n",
    "import seaborn as sns\n",
    "broj_zaposlenih = 100\n",
    "\n",
    "plata = 200\n",
    "\n",
    "n = 50\n",
    "\n",
    "p = 0.04\n",
    "\n",
    "prihod_po_pozivu = 100\n",
    "\n",
    "sims = 1000\n",
    "razgovori = [np.sum(np.random.binomial(n, p, size=broj_zaposlenih)) for i in range(sims)]\n",
    "profiti = np.array(razgovori)*prihod_po_pozivu - broj_zaposlenih*plata\n",
    "\n",
    "@widgets.interact(\n",
    "    color1=['indianred', 'yellow', 'lightseagreen', 'midnightblue', 'gold', 'forestgreen', \n",
    "            'xkcd:rusty red', 'orange', 'royalblue', 'lavenderblush', 'white', 'grey',\n",
    "           'blue', 'red', 'green', 'black'])\n",
    "def plot(color1 = 'blue'):\n",
    "    fig, ax = plt.subplots(figsize=(14,7))\n",
    "    ax = sns.histplot(profiti, bins=20, kde=True, label='simulacija prihoda', color = color1)\n",
    "\n",
    "    ax.set_xlabel(\"Profiti\",fontsize=16)\n",
    "    ax.set_ylabel(\"Frekvencija\",fontsize=16)\n",
    "    plt.legend()"
   ]
  },
  {
   "cell_type": "markdown",
   "metadata": {},
   "source": [
    "Kao što možemo da vidimo, verovatnoća da budemo u gubitku je velika (skoro polovina simulacija je negativna).\n",
    "Imajuci u vidu da svaki rezultat zaposlenog ima binomnu raspodelu, shavatamo da možemo da preduzmemo jednu ili više sledećih mera kako bismo poboljšali situaciju:<br>\n",
    "1) Povećamo broj poziva (povećamo $N$),<br>\n",
    "2) Povećamo verovatnoću uspeha(povećamo),<br>\n",
    "3) Da plaćamo radnike manje.<br>\n",
    "<br>\n",
    "Na kraju, u razgovoru sa direktorom, dolazimo do zaključka da radnici moraju bolje da prepoznaju\n",
    "ljude koji će kupiti proizvod. To rezultuje u kraćim pozivima i većoj verovatnoći uspeha $\\Longrightarrow$\n",
    "$N = 55$ i $p = 5\\%$."
   ]
  },
  {
   "cell_type": "code",
   "execution_count": 10,
   "metadata": {},
   "outputs": [
    {
     "data": {
      "application/vnd.jupyter.widget-view+json": {
       "model_id": "5e7c24290c1e411d9b255c529a612fc9",
       "version_major": 2,
       "version_minor": 0
      },
      "text/plain": [
       "interactive(children=(Dropdown(description='color1', index=12, options=('indianred', 'yellow', 'lightseagreen'…"
      ]
     },
     "metadata": {},
     "output_type": "display_data"
    }
   ],
   "source": [
    "employees = 100\n",
    "wage = 200\n",
    "revenue = 100\n",
    "sims = 1000\n",
    "\n",
    "n1 = 55\n",
    "n = 50\n",
    "\n",
    "p = 0.04\n",
    "p1 = 0.05\n",
    "\n",
    "\n",
    "razgovori = [np.sum(np.random.binomial(n, p, size=employees)) for i in range(sims)]\n",
    "profiti = np.array(razgovori)*revenue - employees*wage\n",
    "razgovori_pob = [np.sum(np.random.binomial(n1, p1, size=employees)) for i in range(sims)]\n",
    "profiti_pob = np.array(razgovori_pob)*revenue - employees*wage\n",
    "\n",
    "@widgets.interact(\n",
    "    color1=['indianred', 'yellow', 'lightseagreen', 'midnightblue', 'gold', 'forestgreen', \n",
    "            'xkcd:rusty red', 'orange', 'royalblue', 'lavenderblush', 'white', 'grey',\n",
    "           'blue', 'red', 'green', 'black'],\n",
    "    color2=['indianred', 'yellow', 'lightseagreen', 'midnightblue', 'gold', 'forestgreen', \n",
    "            'xkcd:rusty red', 'orange', 'royalblue', 'lavenderblush', 'white', 'grey',\n",
    "           'blue', 'red', 'green', 'black'])\n",
    "def plot(color1 = 'blue', color2 = 'red'):\n",
    "    fig, ax = plt.subplots(figsize=(14,7))\n",
    "    ax = sns.histplot(profiti, bins=20, kde = True, label='originalna simulacija', color = color1)\n",
    "    ax = sns.histplot(profiti_pob, bins=20, kde = True, label='poboljsana simulacija', color=color2)\n",
    "    ax.set_xlabel(\"Profiti\",fontsize=16)\n",
    "    ax.set_ylabel(\"Frekvencija\",fontsize=16)\n",
    "    plt.legend()"
   ]
  },
  {
   "cell_type": "markdown",
   "metadata": {},
   "source": [
    "Uspešno smo prepoznali da profit od svakog radnika predstavlja binomnu raspodelu,\n",
    "tako da ako povećamo i $N$ i $p$ možemo da imamo veći profit.\n"
   ]
  },
  {
   "cell_type": "markdown",
   "metadata": {},
   "source": [
    "<h2>Primena binomne raspodele za predviđanje širenja virusa COVID-19</h2>\n",
    "\n",
    "<h3>Motiv</h3>\n",
    "    \n",
    "* COVID-19 je, kao što znate, jedna od najaktuelnijih tema današnjeg doba. Imajući to u vidu, ovo je savršen primer primene binomne raspodele na nečemu jako važnom! Mada, moramo napomenuti, da se pored binomne, koriste i mnoge druge raspodele kao dopuna za preciznije određivanje brzine, ali i samog obima širenja virusa u bližim vremenskim periodima.\n"
   ]
  },
  {
   "cell_type": "markdown",
   "metadata": {},
   "source": [
    "<h3>Opis i primena slučaja</h3>\n",
    "\n",
    "* Pretpostavimo da je virus izolovan u prostoriji sa $11$ osoba. Pet osoba su zaražene, a 6 su bile u kontaktu sa njima. Neka je $p$ verovatnoća da će zaražena osoba zaraziti ***tačno jednu*** od $6$ ‚‚negativnih’’ osoba. To znači da je šansa da bilo koja nezaražena osoba ***ne dobije*** virus od ***tačno jedne*** zaražene osobe jednaka $1-p$. Dalje, to dovodi do zaključka da je šansa da se osoba uopšte ne zarazi u ovom ciklusu $(1-p)^{5}$ i obeležićemo je sa $1-Q$. To implicira da je šansa da se osoba zarazi $1-1+Q = Q$. Sada napokon možemo prikazati oblik binomne formule:\n",
    "\n",
    "$$ P(X=k) = \\binom{11}{k} \\cdot Q^{k} \\cdot (1-Q)^{11-k} $$\n",
    "\n",
    "* U slučaju da je $k = 0$ tj. $$P(X=0) = (1-Q)^{11},$$$$$$ uzećemo da je $Q = 0,8$ $(p=0,7248)$, pa je $P(X=0) = 0,00000002048$ verovatnoća da će virus izumreti u datom okruženju za vremenski ciklus potreban da $5$ zaraženih osoba ozdrave ili na žalost, preminu. Na ovom primeru se da zaključiti da je veoma velika šansa da će virus nastaviti da se širi.$$$$\n",
    "\n",
    "* Ako je $X \\neq 0$, što je realnija situacija, moramo uvesti novi vremenski ciklus. Razlika će sada biti u tome što bi broj zaraženih iznosio neko novo $k$ (gde je $k \\leq 11-5)$, a broj nezaraženih $6-k$ (pošto je novo $n=6$). Isti postupak ćemo ponavljati sve dok se broj zaraženih konačno ne spusti na $0$, što veoma lako može potrajati i do $4-5$ ciklusa za ovako mali broj ljudi. Baš iz ovog razloga je potrebno da se ide par koraka unapred kako bi se eventualno sprečio nagli rast zaraze i preopterećenje zdravstvenog sistema.\n"
   ]
  },
  {
   "cell_type": "markdown",
   "metadata": {},
   "source": [
    "<h3>Realan slučaj</h3>\n",
    "\n",
    "* Sličan gore opisanom postupku se primenjuje na malo veće celine poput manjih gradova i sela, a u kombinaciji sa Poasonovom raspodelom i nekim metodama redova, moguće je primeniti i na dnevnim bazama za cele države ! \n"
   ]
  },
  {
   "cell_type": "markdown",
   "metadata": {},
   "source": [
    "<h2>Lekovi protiv alergija</h2>\n",
    "\n",
    "* Pretpostavimo da $80\\%$ ljudi sa alergijama prijavi simptomsko olakšanje nakon upotrebe određenog leka. Ako je lek naknadno dat $10$ novih osoba, koja je verovatnoća da će lek biti efikasan kod tačno $7$ osoba (manje od proseka) ?$$$$\n",
    "\n",
    "* Pretpostavke su da je uspeh ako lek deluje na osobu i verovatnoća uspeha je $0,8$. Odatle sledi: <br><br>\n",
    "$$n = 10, X=7, \\quad p = 0.8,$$ pa je cela formula:\n",
    "$$ P(X=7) = \\binom{10}{7} \\cdot 0,8^{7} \\cdot (1-0,8)^{3} = 0,2013.$$\n",
    "\n",
    "\n",
    "* Zaključak je da će u $20,13$% slučajeva lek raditi na $7$ od $10$ ljudi što je korektno u te svrhe.\n"
   ]
  },
  {
   "cell_type": "markdown",
   "metadata": {},
   "source": [
    "<h2>Verovatnoća smrti nakon srčanog udara</h2>\n",
    "\n",
    "* Verovatnoća da pacijent koji je doživeo srčani udar umre od istog je $0,04$ (tj. $4$ od $100$ umre od napada). Pretpostavimo da imamo 5 pacijenata koji pate od srčanog udara, kolika je verovatnoća da će svi preživeti? U ovom primeru ćemo za uspeh uzeti fatalni napad ($p = 0,04$). Neka je $n = 5$ pacijenata i želimo da znamo verovatnoću da svi prežive ili, drugim rečima, da nijedan nije fatalan ($0$ uspeha)\n",
    "\n",
    "\n",
    "* Svaki napad je fatalan ili nefatalan, verovatnoća fatalnog napada je $4$% za sve pacijente, a ishod pojedinačnih pacijenata je nezavisan. Treba napomenuti da se pretpostavka da se verovatnoća uspeha odnosi na sve pacijente mora pažljivo proceniti. Verovatnoća da pacijent umre od srčanog udara zavisi od mnogih faktora, uključujući starost, težinu napada i druga komorbidna stanja. Da bismo primenili verovatnoću od $4$% moramo biti uvereni da **svi pacijenti imaju isti rizik** od fatalnog napada. Pretpostavka nezavisnosti događaja takođe se mora pažljivo proceniti. Sve dok pacijenti nisu povezani, pretpostavka je obično odgovarajuća. Prognoza bolesti može biti povezana kod članova iste porodice ili kod pojedinaca koji žive zajedno. **U ovom primeru, pretpostavimo da pet analiziranih pacijenata nije povezano, slične starosti i bez komorbidnih stanja.**\n",
    "\n",
    "$$ P(X=0) = \\binom{5}{0} \\cdot 0,04^{0} \\cdot (1-0,04)^{5} = 0,8514$$\n",
    "\n",
    "* Postoji $81,54\\%$ verovatnoće da će svi pacijenti preživeti napad kada je verovatnoća da neko umre $4\\%$. U ovom primeru mogući ishodi su $0, 1, 2, 3, 4$ ili $5$ uspeha (smrtni slučajevi). Pošto je verovatnoća smrtnog ishoda tako mala, najverovatniji odgovor je 0 tj. da svi pacijenti prežive!"
   ]
  },
  {
   "cell_type": "markdown",
   "metadata": {},
   "source": [
    "<h2>Zadaci iz bernulijeve i binomne raspodele</h2>\n",
    "\n",
    "<h3>Zadatak 1</h3> \n",
    "\n",
    "Ispit je polagalo 18 $(n)$ studenata, a na osnovu prethodnih rokova poznato je da $44\\%$ $(p)$ njih položi ispit. Naći verovatnoću da će u ovom ispitnom roku položiti najmanje 6 $(i)$ a najviše 9 $(j)$ studenata.\n",
    "\n",
    "<h3>Rešenje</h3> \n",
    "\n",
    "$$P(\\text{Položiti, min. 6 max. 9}) =\\binom{18}{6}p^{6}(1 - p)^{18 - 6} + \\binom{18}{7}p^{7}(1 - p)^{18 - 7} + \\binom{18}{8}p^{8}(1 - p)^{18 - 8} + \\binom{18}{9}p^{9}(1 - p)^{18 - 9}$$\n"
   ]
  },
  {
   "cell_type": "code",
   "execution_count": 11,
   "metadata": {},
   "outputs": [
    {
     "data": {
      "application/vnd.jupyter.widget-view+json": {
       "model_id": "d80b64c5d1ba422fa1cb7725be719bd0",
       "version_major": 2,
       "version_minor": 0
      },
      "text/plain": [
       "interactive(children=(IntSlider(value=18, description='n', max=30), FloatSlider(value=0.44, description='p', m…"
      ]
     },
     "metadata": {},
     "output_type": "display_data"
    }
   ],
   "source": [
    "def BinomnaFja(x, n, p):\n",
    "    l = np.zeros(len(x))\n",
    "    for i in range(0, len(x)):\n",
    "        l[i] = m.comb(n, x[i]) * p**x[i] * (1 - p)**(n - x[i])\n",
    "    return l\n",
    "\n",
    "\n",
    "@widgets.interact(\n",
    "    color1=['indianred', 'yellow', 'lightseagreen', 'midnightblue', 'gold', 'forestgreen', \n",
    "            'xkcd:rusty red', 'orange', 'royalblue', 'lavenderblush', 'white', 'grey',\n",
    "           'blue', 'red', 'green', 'black'], \n",
    "    color2=['indianred', 'yellow', 'lightseagreen', 'midnightblue', 'gold', 'forestgreen', \n",
    "            'xkcd:rusty red', 'orange', 'royalblue', 'lavenderblush', 'white', 'grey',\n",
    "           'blue', 'red', 'green', 'black'], \n",
    "    color3=['indianred', 'yellow', 'lightseagreen', 'midnightblue', 'gold', 'forestgreen', \n",
    "            'xkcd:rusty red', 'orange', 'royalblue', 'lavenderblush', 'white', 'grey',\n",
    "           'blue', 'red', 'green', 'black'], \n",
    "    n = (0, 30), p = (0, 1.0), YOsa = (0, 0.5), i = (0, 18),j = (0, 18))\n",
    "def plot(n = 18, p = 0.44, YOsa = 0.2, i=9, j=6,color1 = 'forestgreen', color2 = 'white', color3 = 'grey', grid = True):\n",
    "    xOsa = np.arange(0, n + 1, 1)\n",
    "    yOsa = BinomnaFja(xOsa, n, p)\n",
    "    \n",
    "    xOsaH = np.arange(j, i + 1, 1)\n",
    "    yOsaH = BinomnaFja(xOsaH, n, p)\n",
    "    Suma=sum(yOsaH)\n",
    "    \n",
    "    plt.figure(1, figsize=(8,4), dpi=150)\n",
    "    ax = plt.axes()\n",
    "    ax.set_facecolor(color2)\n",
    "    \n",
    "    plt.bar(xOsa, yOsa, color = color1, label=\"n = {0}, p = {1}\\nVerovatnoća = {2:.5g}\".format(n, p, Suma),alpha=0.6)\n",
    "    plt.bar(xOsaH, yOsaH, color = color1,alpha=0.9)\n",
    "    \n",
    "    plt.title(\"Grafik rešenja zadatka 1.\")\n",
    "    if grid:\n",
    "        plt.grid(b=True,which=\"both\", color=color3, linestyle=\"--\")\n",
    "    plt.xlabel('X osa');\n",
    "    plt.ylabel('Y osa');\n",
    "    plt.xticks(xOsa,xOsa)\n",
    "    plt.ylim(0, YOsa)\n",
    "    plt.legend()\n",
    "    plt.show()"
   ]
  },
  {
   "cell_type": "markdown",
   "metadata": {},
   "source": [
    "<h3>Zadatak 2</h3> \n",
    "\n",
    "Da bi optuženi bio osuđen potrebno je da bar 8 od 12 porotnika glasaju da je kriv. Ako pretpostavimo da porotnici glasaju nezavisno i da, bez obzira da li glasaju da je kriv ili nevin, donose pravu odluku sa verovatnoćom p, odrediti verovatnoću da porota donese korektnu odluku.\n",
    "\n",
    "<h3>Rešenje</h3> \n",
    "\n",
    "1) Nevin:\\\n",
    "    0 je glasalo da je kriv, 12 da je nevin, \\\n",
    "    ili 1 je glasalo da je kriv, 11 da je nevin,\\\n",
    "    ili 2 je glasalo da je kriv, 10 da je nevin,\\\n",
    "    .\\\n",
    "    .\\\n",
    "    .\\\n",
    "    ili 7 je glasalo da je kriv, 5 da je nevin.\n",
    "    \n",
    "$$ \\Longrightarrow \\quad \\sum_{k = 5}^{n = 12}  \\binom{12}{k}p^{k}(1 - p)^{12 - k}$$\n",
    "\n",
    "2) Kriv:\\\n",
    "    8 da je kriv, 4 da je nevin, \\\n",
    "    9 da je kriv, 3 da je nevin, \\\n",
    "    10 da je kriv, 2 da je nevin, \\\n",
    "    11 da je kriv, 1 da je nevin, \\\n",
    "    12 da je kriv, 0 da je nevin.\n",
    "    \n",
    "$$ \\Longrightarrow \\quad \\sum_{k = 8}^{n = 12}  \\binom{12}{k}p^{k}(1 - p)^{12 - k}$$\n",
    "\n",
    "- Hipoteze su : $H1$ - nevin , $H2$ - kriv (koristimo *formulu totalne verovatnoće*):\n",
    "\n",
    "$$P(H_{1})=\\alpha,$$ $$P(H_{2})=1-\\alpha,$$\n",
    "$$P(Ko) = P(Ko\\mid H_{1})*P(H_{1})+P(Ko\\mid H_{2})*P(H_{2}),$$\n",
    "$$P(Ko) = \\alpha\\sum_{k = 5}^{n = 12}  \\binom{12}{k}p^{k}(1 - p)^{12 - k} + (1-\\alpha)\\sum_{k = 8}^{n = 12}  \\binom{12}{k}p^{k}(1 - p)^{12 - k}.$$\n"
   ]
  },
  {
   "cell_type": "code",
   "execution_count": 12,
   "metadata": {},
   "outputs": [
    {
     "data": {
      "application/vnd.jupyter.widget-view+json": {
       "model_id": "c8593d59724648f8b1782ece75226ab5",
       "version_major": 2,
       "version_minor": 0
      },
      "text/plain": [
       "interactive(children=(IntSlider(value=12, description='n', max=31), FloatSlider(value=0.3, description='p', ma…"
      ]
     },
     "metadata": {},
     "output_type": "display_data"
    }
   ],
   "source": [
    "def FunkcijaVerovatnoće(x, n, p, a):\n",
    "    l = np.zeros(len(x))\n",
    "    g=0\n",
    "    f=0\n",
    "    for i in range(0, len(x)):\n",
    "        g=0\n",
    "        f=0\n",
    "        for j in range(m.floor(x[i]),n+1):\n",
    "            g += m.comb(n, j) * p**j * (1 - p)**(n - j)\n",
    "        g *= (1-a)\n",
    "        for j in range(n+1-m.floor(x[i]),n+1):\n",
    "            f += m.comb(n, j) * p**j * (1 - p)**(n - j)\n",
    "        f*= a\n",
    "        l[i]=g+f\n",
    "    return l\n",
    "\n",
    "@widgets.interact(\n",
    "    color1=['indianred', 'yellow', 'lightseagreen', 'midnightblue', 'gold', 'forestgreen', \n",
    "            'xkcd:rusty red', 'orange', 'royalblue', 'lavenderblush', 'white', 'grey',\n",
    "           'blue', 'red', 'green', 'black'], \n",
    "    color2=['indianred', 'yellow', 'lightseagreen', 'midnightblue', 'gold', 'forestgreen', \n",
    "            'xkcd:rusty red', 'orange', 'royalblue', 'lavenderblush', 'white', 'grey',\n",
    "           'blue', 'red', 'green', 'black'], \n",
    "    color3=['indianred', 'yellow', 'lightseagreen', 'midnightblue', 'gold', 'forestgreen', \n",
    "            'xkcd:rusty red', 'orange', 'royalblue', 'lavenderblush', 'white', 'grey',\n",
    "           'blue', 'red', 'green', 'black'], \n",
    "    n = (0, 31), p = (0, 1.0), a = (0, 1.0))\n",
    "\n",
    "def plot(n = 12, p = 0.3, a=0.5, color1 = 'forestgreen', color2 = 'white', color3 = 'grey', grid = True):\n",
    "    xOsa = np.arange(1, n+1 , 1)\n",
    "    yOsa = FunkcijaVerovatnoće(xOsa, n, p, a)\n",
    "   \n",
    "    plt.figure(1, figsize=(9,6), dpi=100)\n",
    "    ax = plt.axes()\n",
    "    ax.set_facecolor(color2)\n",
    "    plt.plot(xOsa, yOsa, 'o', color = color1, label=\"n = {0}, p = {1}\".format(n, p))\n",
    "   \n",
    "    plt.title(\"Funkcija raspodele binomne raspodele\")\n",
    "    if grid:\n",
    "        plt.grid(b=True,which=\"both\", color=color3, linestyle=\"--\")\n",
    "    plt.xlabel('X osa Broj glasova porotnika da je optuženi kriv kako bi bio osuđen');\n",
    "    plt.ylabel('Y osa Verovatnoća Korektne odluke');\n",
    "    plt.xticks(xOsa,xOsa)\n",
    "    plt.ylim(0, 1.1)\n",
    "    plt.legend()\n",
    "    plt.show()\n"
   ]
  },
  {
   "cell_type": "markdown",
   "metadata": {},
   "source": [
    "<h3>Zadatak 3</h3> \n",
    "\n",
    "Koja je verovatnoća da se u beskonačnoj seriji BERNOULLI - jevih opita dogodi beskonačno mnogo uspeha?\n",
    "\n",
    "<h3>Rešenje</h3> \n",
    "\n",
    "Rešavanju ovog primera pristupićemo tako što ćemo prvo dati odgovor na sledeća tri pitanja:\n",
    "1) Koja je verovanoća da se u seriji od $n$ BERNOULLI - jevih opita sa verovatnoćom uspeha $p\\in(0,1)$ ne dogodi nijedan neuspeh?<br>\n",
    "&nbsp;&nbsp;&nbsp;&nbsp; Verovatnoća je : $P(X \\neq 0)=p^{n}$.<br>\n",
    "<br>\n",
    "2) Koja je verovatnoća se u beskonačnoj seriji BERNOULLI - jevih eksperimenata ne dogodi nijedan neuspeh?<br>\n",
    "&nbsp;&nbsp;&nbsp;&nbsp; Verovatnoća je : $P(X \\neq 0)=\\lim_{n \\to \\infty}p^{n}$ s' obzirom da je $p\\in(0,1)$ verovatnoća je jednaka nuli.<br>\n",
    "<br>\n",
    "3) Koja je verovatnoća da se u beskonačnoj seriji BERNOULLI - jevih opita dogodi tacno $k$ uspeha $(k < +{\\infty}$)?<br>\n",
    "&nbsp;&nbsp;&nbsp;&nbsp; Verovatnoća je :\n",
    "$$\\displaystyle{\\lim_{n \\to \\infty}\\binom{n}{k}p^{k}(1 - p)^{n - k}=\\frac{p^{k}}{k!(1-p)^{k}}\\lim_{n \\to \\infty}n(n-1)...(n-k+1)(1-p)^{n}=0},$$\n",
    "&nbsp;&nbsp;&nbsp;&nbsp; jer je<br>\n",
    "$$\\displaystyle{n(n-1)...(n-k+1)(1-p)^{n}<n^{k}(1-p)^{n}=\\frac{n^k}{a^n}, \\quad a=\\frac{1}{1-p}>1}$$\n",
    "\n",
    "&nbsp;&nbsp;&nbsp;&nbsp;i eksponencijalna funkcija $f(n) = a^n$ brže raste od bilo kakve stepene funkcije $g(n) = n^k$.<br>\n",
    "<br>\n",
    "* Na osnovu rešenja trećeg pitanja tražena verovatnoća je jednaka jedinici.\n",
    " "
   ]
  },
  {
   "cell_type": "markdown",
   "metadata": {},
   "source": [
    "<h3>Zadatak 4</h3> \n",
    "\n",
    "Iz skladišta se uzima 100 proizvoda.Verovatnoća da je jedan proizvod defektan je 0,01. Kolika je verovatnoća da  <br>a) bude tačno 5 defektnih,<br> b) broj defektnih nije veći od 10?<br>\n",
    "<h3>Rešenje</h3> \n",
    "\n",
    "a) Za k = 5 imamo:<br>\n",
    "$$P(X=5) = \\binom{100}{5} \\cdot p^{5} \\cdot (1-p)^{100-5}$$\n",
    "$$P(X=5) = \\binom{100}{5} \\cdot 0.01^{5} \\cdot (0.99)^{95}$$\n",
    "$$P(X=5) = 0.00579$$\n",
    "b)$$ P = P(X=0)+P(X=1)+...+P(X=10)$$\n",
    "$$\\sum_{k=0}^{10}{P(X = k)} = \\sum_{k=0}^{10}{\\binom{100}{k} \\cdot p^k \\cdot (1-p)^{100-k}}$$\n",
    "$$\\sum_{k=0}^{10}{P(X = k)} = \\sum_{k=0}^{10}{\\binom{100}{k} \\cdot 0.01^k \\cdot (0.99)^{100-k}}$$"
   ]
  },
  {
   "cell_type": "code",
   "execution_count": 13,
   "metadata": {},
   "outputs": [
    {
     "data": {
      "application/vnd.jupyter.widget-view+json": {
       "model_id": "85dfd1685f0143568c0044bf78539eb4",
       "version_major": 2,
       "version_minor": 0
      },
      "text/plain": [
       "interactive(children=(IntSlider(value=5, description='n', min=1), FloatSlider(value=0.1, description='p', max=…"
      ]
     },
     "metadata": {},
     "output_type": "display_data"
    }
   ],
   "source": [
    "def BinomnaFja(x, n, p):\n",
    "    l = np.zeros(len(x))\n",
    "    for i in range(0, len(x)):\n",
    "        l[i] = m.comb(n, x[i]) * p**x[i] * (1 - p)**(n - x[i])\n",
    "    return l\n",
    "@widgets.interact(\n",
    "    color1=['indianred', 'yellow', 'lightseagreen', 'midnightblue', 'gold', 'forestgreen', \n",
    "            'xkcd:rusty red', 'orange', 'royalblue', 'lavenderblush', 'white', 'grey',\n",
    "           'blue', 'red', 'green', 'black'], \n",
    "    color2=['indianred', 'yellow', 'lightseagreen', 'midnightblue', 'gold', 'forestgreen', \n",
    "            'xkcd:rusty red', 'orange', 'royalblue', 'lavenderblush', 'white', 'grey',\n",
    "           'blue', 'red', 'green', 'black'], \n",
    "    color3=['indianred', 'yellow', 'lightseagreen', 'midnightblue', 'gold', 'forestgreen', \n",
    "            'xkcd:rusty red', 'orange', 'royalblue', 'lavenderblush', 'white', 'grey',\n",
    "           'blue', 'red', 'green', 'black'],\n",
    "    n=(1,100), p=(0,1.0))\n",
    "def binom_larger(n=5,p=0.1,color1 = 'forestgreen', color2 = 'white', color3 = 'grey', grid = True):\n",
    "    x = np.arange(0, n + 1, 1)\n",
    "    y = BinomnaFja(x, n, p)\n",
    "    fig, ax = plt.subplots(figsize=(12,8))\n",
    "    ax.plot(x,y,'o')\n",
    "    plt.title('Odnost raspodela po verovatnoci')\n",
    "    if(grid):\n",
    "        plt.grid(b=True,which=\"both\", color=color3, linestyle=\"--\")\n",
    "    plt.xlabel('P')\n",
    "    plt.ylabel('Y osa')\n",
    "    ax.legend([f'p{n}'])"
   ]
  },
  {
   "cell_type": "markdown",
   "metadata": {},
   "source": [
    "<h3>Zadatak 5</h3>\n",
    "\n",
    "Komunikacioni sistem se sastoji od $n$ komponenata koje funkcionišu nezavisno, svaka sa verovatnoćom $p$. Sistem može da funkcioniše ako bar polovina njegovih komponenata radi. Odrediti verovatnoću $p$ za koju je verovatnije da funkcioniše sistem od 5 komponenata, nego sistem od 3 komponente.\n",
    "\n",
    "<h3>Rešenje</h3> \n",
    "\n",
    "* Treba da nadjemo verovatnoću p za koje je $P(5)$ $>$ $P(3)$:\n",
    "\n",
    "\n",
    "$$P(5) = \\sum_{k=3}^5 \\binom{5}{k} \\cdot p^k \\cdot (1-p)^{(5-k)}  = \\binom{5}{3} \\cdot p^3 \\cdot (1-p)^2 + \\binom{5}{4} \\cdot p^4 \\cdot (1-p)+\\binom{5}{5} \\cdot p^5 \\cdot (1-p)^0$$\n",
    "\n",
    "$$\\fbox{$P(5) = 10 \\cdot p^3 \\cdot (1-p)^2 + 5 \\cdot p^4(1-p) + p^5$}$$\n",
    "\n",
    "$$P(3) = \\sum_{k=2}^3 \\binom{3}{k} \\cdot p^k \\cdot (1-p)^{(3-k)}  = \\binom{3}{2} \\cdot p^2 \\cdot (1-p) + \\binom{3}{3} \\cdot p^3  \\cdot (1-p)^0$$\n",
    "\n",
    "$$\\fbox{$P(3) = 3 \\cdot p^2 \\cdot (1-p) + p^3$}$$\n",
    "\n",
    "$$P(5)>P(3) => 10 \\cdot p^3 \\cdot (1-p)^2 + p^4(1-p) + p^5 > 3 \\cdot p^2 \\cdot (1-p) + p^3$$\n",
    "\n",
    "$$3 \\cdot (p-1)^2 \\cdot p^2(2p-1)>0   =>     \\fbox{$p>1/2$}$$"
   ]
  },
  {
   "cell_type": "code",
   "execution_count": 14,
   "metadata": {},
   "outputs": [
    {
     "data": {
      "application/vnd.jupyter.widget-view+json": {
       "model_id": "4bd3ff82d9f04f27a7b1b7a9013b12fa",
       "version_major": 2,
       "version_minor": 0
      },
      "text/plain": [
       "interactive(children=(IntSlider(value=3, description='n1', min=1), IntSlider(value=5, description='n2', min=1)…"
      ]
     },
     "metadata": {},
     "output_type": "display_data"
    }
   ],
   "source": [
    "def BinomnaFja(n, p):\n",
    "    l = np.zeros(len(p))\n",
    "    for j in range(len(p)):\n",
    "#         print(j)\n",
    "        for i in range((n+1)//2, n+1):\n",
    "            l[j] += m.comb(n, i) * p[j]**i * (1 - p[j])**(n - i)\n",
    "    return l\n",
    "@widgets.interact(\n",
    "    color1=['indianred', 'yellow', 'lightseagreen', 'midnightblue', 'gold', 'forestgreen', \n",
    "            'xkcd:rusty red', 'orange', 'royalblue', 'lavenderblush', 'white', 'grey',\n",
    "           'blue', 'red', 'green', 'black'], \n",
    "    color2=['indianred', 'yellow', 'lightseagreen', 'midnightblue', 'gold', 'forestgreen', \n",
    "            'xkcd:rusty red', 'orange', 'royalblue', 'lavenderblush', 'white', 'grey',\n",
    "           'blue', 'red', 'green', 'black'], \n",
    "    color3=['indianred', 'yellow', 'lightseagreen', 'midnightblue', 'gold', 'forestgreen', \n",
    "            'xkcd:rusty red', 'orange', 'royalblue', 'lavenderblush', 'white', 'grey',\n",
    "           'blue', 'red', 'green', 'black'],\n",
    "    n1=(1,100), n2=(1,100))\n",
    "def binom_larger(n1=3, n2=5,color1 = 'forestgreen', color2 = 'white', color3 = 'grey', grid = True):\n",
    "    x = np.arange(0, 1, 0.001)\n",
    "    y1 = BinomnaFja(n1, x)\n",
    "    y2 = BinomnaFja(n2, x)\n",
    "    fig, ax = plt.subplots(figsize=(14,7))\n",
    "    fig.set_facecolor(color2)\n",
    "    ax.plot(y1,x, y2, x)\n",
    "    \n",
    "    plt.title('Odnost raspodela po verovatnoci')\n",
    "    if(grid):\n",
    "        plt.grid(b=True,which=\"both\", color=color3, linestyle=\"--\")\n",
    "    plt.xlabel('P')\n",
    "    plt.ylabel('Y osa')\n",
    "    ax.legend([f'p{n1}',f'p{n2}'])"
   ]
  }
 ],
 "metadata": {
  "kernelspec": {
   "display_name": "Python 3",
   "language": "python",
   "name": "python3"
  },
  "language_info": {
   "codemirror_mode": {
    "name": "ipython",
    "version": 3
   },
   "file_extension": ".py",
   "mimetype": "text/x-python",
   "name": "python",
   "nbconvert_exporter": "python",
   "pygments_lexer": "ipython3",
   "version": "3.8.5"
  }
 },
 "nbformat": 4,
 "nbformat_minor": 4
}
